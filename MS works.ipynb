{
 "cells": [
  {
   "cell_type": "code",
   "execution_count": 1,
   "metadata": {},
   "outputs": [
    {
     "name": "stdout",
     "output_type": "stream",
     "text": [
      "\n",
      "No valid DataFrames were found to combine.\n"
     ]
    }
   ],
   "source": [
    "import os\n",
    "import pandas as pd\n",
    "\n",
    "# Define the folder path where all the Excel files are stored\n",
    "folder_path = r\"C:\\Users\\KabeerMotwani\\OneDrive - Prime Trading Group\\work\\ALARM REPORTS FOR KABEER\"\n",
    "\n",
    "# Initialize an empty list to store DataFrames\n",
    "all_dataframes = []\n",
    "\n",
    "# Loop through each file in the folder\n",
    "for file_name in os.listdir(folder_path):\n",
    "    if file_name.endswith(\".xls\") or file_name.endswith(\".xlsx\"):  # Check if file is an Excel file\n",
    "        file_path = os.path.join(folder_path, file_name)  # Create full file path\n",
    "        try:\n",
    "            # Attempt to read the file with multiple engines\n",
    "            df = pd.read_excel(file_path, engine='xlrd')  # Old .xls files\n",
    "            if df.empty:\n",
    "                print(f\"File is empty: {file_name}\")\n",
    "            else:\n",
    "                all_dataframes.append(df)\n",
    "                print(f\"Successfully loaded: {file_name} - {df.shape[0]} rows\")\n",
    "        except ValueError as ve:\n",
    "            print(f\"ValueError reading {file_name}: {ve}\")\n",
    "        except Exception as e:\n",
    "            print(f\"Error reading file {file_name}: {e}\")\n",
    "\n",
    "# Combine all the DataFrames into a single DataFrame\n",
    "if all_dataframes:\n",
    "    combined_df = pd.concat(all_dataframes, ignore_index=True)\n",
    "    print(f\"\\nCombined DataFrame created with {combined_df.shape[0]} rows and {combined_df.shape[1]} columns.\")\n",
    "    \n",
    "    # Save the combined DataFrame as an Excel file for reference\n",
    "    output_file = os.path.join(folder_path, \"Combined_Alarm_Reports.xlsx\")\n",
    "    combined_df.to_excel(output_file, index=False)\n",
    "    print(f\"\\nCombined DataFrame saved to {output_file}\")\n",
    "else:\n",
    "    print(\"\\nNo valid DataFrames were found to combine.\")\n"
   ]
  },
  {
   "cell_type": "code",
   "execution_count": 2,
   "metadata": {},
   "outputs": [
    {
     "name": "stdout",
     "output_type": "stream",
     "text": [
      "Files in folder: ['s49-638702793416452034.XLS', 's49-638703657414895237.XLS', 's49-638704521351985967.XLS', 's49-638705385387707588.XLS', 's49-638706249366847982.XLS', 's49-638707113363837691.XLS', 's49-638707977424346886.XLS', 's49-638708841374179583.XLS', 's49-638709705399134456.XLS', 's49-638710569341604323.XLS', 's49-638711433419167346.XLS', 's49-638712297369152880.XLS', 's49-638713161381049980.XLS', 's49-638714025395841915.XLS', 's49-638714889441966469.XLS', 's49-638715753371156410.XLS', 's49-638716617369642384.XLS', 's49-638717481422558464.XLS', 's49-638718345381578757.XLS', 's49-638719209336472327.XLS', 's49-638720073448531227.XLS', 's49-638720937411665609.XLS', 's49-638721801376913096.XLS', 's49-638722665366533813.XLS', 's49-638723529354034363.XLS', 's49-638724393420437195.XLS', 's49-638725257443177211.XLS', 's49-638726121384960441.XLS', 's49-638726985380065286.XLS', 's49-638727849387772202.XLS', 's49-638728713339034229.XLS', 's49-638729577453920875.XLS', 's49-638730441409352594.XLS', 's49-638732169105695325.XLS', 's49-638733033121421869.XLS', 's49-638733897136681404.XLS', 's49-638734761115281676.XLS', 's49-638735625099501808.XLS', 's49-638736489113711129.XLS']\n"
     ]
    }
   ],
   "source": [
    "import os\n",
    "\n",
    "folder_path = r\"C:\\Users\\KabeerMotwani\\OneDrive - Prime Trading Group\\work\\ALARM REPORTS FOR KABEER\"\n",
    "\n",
    "# List all files in the folder\n",
    "files = os.listdir(folder_path)\n",
    "print(\"Files in folder:\", files)\n"
   ]
  },
  {
   "cell_type": "code",
   "execution_count": 3,
   "metadata": {},
   "outputs": [
    {
     "name": "stdout",
     "output_type": "stream",
     "text": [
      "Successfully loaded: s49-638702793416452034.XLS - 23745 rows\n",
      "Successfully loaded: s49-638703657414895237.XLS - 28586 rows\n",
      "Successfully loaded: s49-638704521351985967.XLS - 34471 rows\n",
      "Successfully loaded: s49-638705385387707588.XLS - 34628 rows\n",
      "Successfully loaded: s49-638706249366847982.XLS - 25881 rows\n",
      "Successfully loaded: s49-638707113363837691.XLS - 25901 rows\n",
      "Successfully loaded: s49-638707977424346886.XLS - 29899 rows\n",
      "Successfully loaded: s49-638708841374179583.XLS - 30287 rows\n",
      "Successfully loaded: s49-638709705399134456.XLS - 30145 rows\n",
      "Successfully loaded: s49-638710569341604323.XLS - 31729 rows\n",
      "Successfully loaded: s49-638711433419167346.XLS - 34170 rows\n",
      "Successfully loaded: s49-638712297369152880.XLS - 26323 rows\n",
      "Successfully loaded: s49-638713161381049980.XLS - 23916 rows\n",
      "Successfully loaded: s49-638714025395841915.XLS - 21680 rows\n",
      "Successfully loaded: s49-638714889441966469.XLS - 21005 rows\n",
      "Successfully loaded: s49-638715753371156410.XLS - 20996 rows\n",
      "Successfully loaded: s49-638716617369642384.XLS - 28369 rows\n",
      "Successfully loaded: s49-638717481422558464.XLS - 31427 rows\n",
      "Successfully loaded: s49-638718345381578757.XLS - 23727 rows\n",
      "Successfully loaded: s49-638719209336472327.XLS - 25306 rows\n",
      "Successfully loaded: s49-638720073448531227.XLS - 22497 rows\n",
      "Successfully loaded: s49-638720937411665609.XLS - 22277 rows\n",
      "Successfully loaded: s49-638721801376913096.XLS - 32090 rows\n",
      "Successfully loaded: s49-638722665366533813.XLS - 37939 rows\n",
      "Successfully loaded: s49-638723529354034363.XLS - 41724 rows\n",
      "Successfully loaded: s49-638724393420437195.XLS - 29092 rows\n",
      "Successfully loaded: s49-638725257443177211.XLS - 29960 rows\n",
      "Successfully loaded: s49-638726121384960441.XLS - 32989 rows\n",
      "Successfully loaded: s49-638726985380065286.XLS - 33546 rows\n",
      "Successfully loaded: s49-638727849387772202.XLS - 34470 rows\n",
      "Successfully loaded: s49-638728713339034229.XLS - 49526 rows\n",
      "Successfully loaded: s49-638729577453920875.XLS - 46733 rows\n",
      "Successfully loaded: s49-638730441409352594.XLS - 26033 rows\n",
      "Successfully loaded: s49-638732169105695325.XLS - 24212 rows\n",
      "Successfully loaded: s49-638733033121421869.XLS - 25818 rows\n",
      "Successfully loaded: s49-638733897136681404.XLS - 26816 rows\n",
      "Successfully loaded: s49-638734761115281676.XLS - 32741 rows\n",
      "Successfully loaded: s49-638735625099501808.XLS - 39328 rows\n",
      "Successfully loaded: s49-638736489113711129.XLS - 25436 rows\n",
      "\n",
      "Combined DataFrame created with 1165418 rows and 10 columns.\n"
     ]
    },
    {
     "ename": "ValueError",
     "evalue": "This sheet is too large! Your sheet size is: 1165418, 10 Max sheet size is: 1048576, 16384",
     "output_type": "error",
     "traceback": [
      "\u001b[1;31m---------------------------------------------------------------------------\u001b[0m",
      "\u001b[1;31mValueError\u001b[0m                                Traceback (most recent call last)",
      "Cell \u001b[1;32mIn[3], line 32\u001b[0m\n\u001b[0;32m     30\u001b[0m     \u001b[38;5;66;03m# Save the combined DataFrame as an Excel file for reference\u001b[39;00m\n\u001b[0;32m     31\u001b[0m     output_file \u001b[38;5;241m=\u001b[39m os\u001b[38;5;241m.\u001b[39mpath\u001b[38;5;241m.\u001b[39mjoin(folder_path, \u001b[38;5;124m\"\u001b[39m\u001b[38;5;124mCombined_Alarm_Reports.xlsx\u001b[39m\u001b[38;5;124m\"\u001b[39m)\n\u001b[1;32m---> 32\u001b[0m     combined_df\u001b[38;5;241m.\u001b[39mto_excel(output_file, index\u001b[38;5;241m=\u001b[39m\u001b[38;5;28;01mFalse\u001b[39;00m)\n\u001b[0;32m     33\u001b[0m     \u001b[38;5;28mprint\u001b[39m(\u001b[38;5;124mf\u001b[39m\u001b[38;5;124m\"\u001b[39m\u001b[38;5;130;01m\\n\u001b[39;00m\u001b[38;5;124mCombined DataFrame saved to \u001b[39m\u001b[38;5;132;01m{\u001b[39;00moutput_file\u001b[38;5;132;01m}\u001b[39;00m\u001b[38;5;124m\"\u001b[39m)\n\u001b[0;32m     34\u001b[0m \u001b[38;5;28;01melse\u001b[39;00m:\n",
      "File \u001b[1;32mc:\\Users\\KabeerMotwani\\anaconda3\\Lib\\site-packages\\pandas\\util\\_decorators.py:333\u001b[0m, in \u001b[0;36mdeprecate_nonkeyword_arguments.<locals>.decorate.<locals>.wrapper\u001b[1;34m(*args, **kwargs)\u001b[0m\n\u001b[0;32m    327\u001b[0m \u001b[38;5;28;01mif\u001b[39;00m \u001b[38;5;28mlen\u001b[39m(args) \u001b[38;5;241m>\u001b[39m num_allow_args:\n\u001b[0;32m    328\u001b[0m     warnings\u001b[38;5;241m.\u001b[39mwarn(\n\u001b[0;32m    329\u001b[0m         msg\u001b[38;5;241m.\u001b[39mformat(arguments\u001b[38;5;241m=\u001b[39m_format_argument_list(allow_args)),\n\u001b[0;32m    330\u001b[0m         \u001b[38;5;167;01mFutureWarning\u001b[39;00m,\n\u001b[0;32m    331\u001b[0m         stacklevel\u001b[38;5;241m=\u001b[39mfind_stack_level(),\n\u001b[0;32m    332\u001b[0m     )\n\u001b[1;32m--> 333\u001b[0m \u001b[38;5;28;01mreturn\u001b[39;00m func(\u001b[38;5;241m*\u001b[39margs, \u001b[38;5;241m*\u001b[39m\u001b[38;5;241m*\u001b[39mkwargs)\n",
      "File \u001b[1;32mc:\\Users\\KabeerMotwani\\anaconda3\\Lib\\site-packages\\pandas\\core\\generic.py:2417\u001b[0m, in \u001b[0;36mNDFrame.to_excel\u001b[1;34m(self, excel_writer, sheet_name, na_rep, float_format, columns, header, index, index_label, startrow, startcol, engine, merge_cells, inf_rep, freeze_panes, storage_options, engine_kwargs)\u001b[0m\n\u001b[0;32m   2404\u001b[0m \u001b[38;5;28;01mfrom\u001b[39;00m \u001b[38;5;21;01mpandas\u001b[39;00m\u001b[38;5;21;01m.\u001b[39;00m\u001b[38;5;21;01mio\u001b[39;00m\u001b[38;5;21;01m.\u001b[39;00m\u001b[38;5;21;01mformats\u001b[39;00m\u001b[38;5;21;01m.\u001b[39;00m\u001b[38;5;21;01mexcel\u001b[39;00m \u001b[38;5;28;01mimport\u001b[39;00m ExcelFormatter\n\u001b[0;32m   2406\u001b[0m formatter \u001b[38;5;241m=\u001b[39m ExcelFormatter(\n\u001b[0;32m   2407\u001b[0m     df,\n\u001b[0;32m   2408\u001b[0m     na_rep\u001b[38;5;241m=\u001b[39mna_rep,\n\u001b[1;32m   (...)\u001b[0m\n\u001b[0;32m   2415\u001b[0m     inf_rep\u001b[38;5;241m=\u001b[39minf_rep,\n\u001b[0;32m   2416\u001b[0m )\n\u001b[1;32m-> 2417\u001b[0m formatter\u001b[38;5;241m.\u001b[39mwrite(\n\u001b[0;32m   2418\u001b[0m     excel_writer,\n\u001b[0;32m   2419\u001b[0m     sheet_name\u001b[38;5;241m=\u001b[39msheet_name,\n\u001b[0;32m   2420\u001b[0m     startrow\u001b[38;5;241m=\u001b[39mstartrow,\n\u001b[0;32m   2421\u001b[0m     startcol\u001b[38;5;241m=\u001b[39mstartcol,\n\u001b[0;32m   2422\u001b[0m     freeze_panes\u001b[38;5;241m=\u001b[39mfreeze_panes,\n\u001b[0;32m   2423\u001b[0m     engine\u001b[38;5;241m=\u001b[39mengine,\n\u001b[0;32m   2424\u001b[0m     storage_options\u001b[38;5;241m=\u001b[39mstorage_options,\n\u001b[0;32m   2425\u001b[0m     engine_kwargs\u001b[38;5;241m=\u001b[39mengine_kwargs,\n\u001b[0;32m   2426\u001b[0m )\n",
      "File \u001b[1;32mc:\\Users\\KabeerMotwani\\anaconda3\\Lib\\site-packages\\pandas\\io\\formats\\excel.py:931\u001b[0m, in \u001b[0;36mExcelFormatter.write\u001b[1;34m(self, writer, sheet_name, startrow, startcol, freeze_panes, engine, storage_options, engine_kwargs)\u001b[0m\n\u001b[0;32m    929\u001b[0m num_rows, num_cols \u001b[38;5;241m=\u001b[39m \u001b[38;5;28mself\u001b[39m\u001b[38;5;241m.\u001b[39mdf\u001b[38;5;241m.\u001b[39mshape\n\u001b[0;32m    930\u001b[0m \u001b[38;5;28;01mif\u001b[39;00m num_rows \u001b[38;5;241m>\u001b[39m \u001b[38;5;28mself\u001b[39m\u001b[38;5;241m.\u001b[39mmax_rows \u001b[38;5;129;01mor\u001b[39;00m num_cols \u001b[38;5;241m>\u001b[39m \u001b[38;5;28mself\u001b[39m\u001b[38;5;241m.\u001b[39mmax_cols:\n\u001b[1;32m--> 931\u001b[0m     \u001b[38;5;28;01mraise\u001b[39;00m \u001b[38;5;167;01mValueError\u001b[39;00m(\n\u001b[0;32m    932\u001b[0m         \u001b[38;5;124mf\u001b[39m\u001b[38;5;124m\"\u001b[39m\u001b[38;5;124mThis sheet is too large! Your sheet size is: \u001b[39m\u001b[38;5;132;01m{\u001b[39;00mnum_rows\u001b[38;5;132;01m}\u001b[39;00m\u001b[38;5;124m, \u001b[39m\u001b[38;5;132;01m{\u001b[39;00mnum_cols\u001b[38;5;132;01m}\u001b[39;00m\u001b[38;5;124m \u001b[39m\u001b[38;5;124m\"\u001b[39m\n\u001b[0;32m    933\u001b[0m         \u001b[38;5;124mf\u001b[39m\u001b[38;5;124m\"\u001b[39m\u001b[38;5;124mMax sheet size is: \u001b[39m\u001b[38;5;132;01m{\u001b[39;00m\u001b[38;5;28mself\u001b[39m\u001b[38;5;241m.\u001b[39mmax_rows\u001b[38;5;132;01m}\u001b[39;00m\u001b[38;5;124m, \u001b[39m\u001b[38;5;132;01m{\u001b[39;00m\u001b[38;5;28mself\u001b[39m\u001b[38;5;241m.\u001b[39mmax_cols\u001b[38;5;132;01m}\u001b[39;00m\u001b[38;5;124m\"\u001b[39m\n\u001b[0;32m    934\u001b[0m     )\n\u001b[0;32m    936\u001b[0m \u001b[38;5;28;01mif\u001b[39;00m engine_kwargs \u001b[38;5;129;01mis\u001b[39;00m \u001b[38;5;28;01mNone\u001b[39;00m:\n\u001b[0;32m    937\u001b[0m     engine_kwargs \u001b[38;5;241m=\u001b[39m {}\n",
      "\u001b[1;31mValueError\u001b[0m: This sheet is too large! Your sheet size is: 1165418, 10 Max sheet size is: 1048576, 16384"
     ]
    }
   ],
   "source": [
    "import os\n",
    "import pandas as pd\n",
    "\n",
    "# Define the folder path where all the Excel files are stored\n",
    "folder_path = r\"C:\\Users\\KabeerMotwani\\OneDrive - Prime Trading Group\\work\\ALARM REPORTS FOR KABEER\"\n",
    "\n",
    "# Initialize an empty list to store DataFrames\n",
    "all_dataframes = []\n",
    "\n",
    "# Loop through each file in the folder\n",
    "for file_name in os.listdir(folder_path):\n",
    "    if file_name.endswith(\".XLS\"):  # Only process .XLS files\n",
    "        file_path = os.path.join(folder_path, file_name)\n",
    "        try:\n",
    "            # Attempt to read the file with xlrd engine\n",
    "            df = pd.read_excel(file_path, engine='xlrd')\n",
    "            if not df.empty:  # Ensure the DataFrame is not empty\n",
    "                all_dataframes.append(df)\n",
    "                print(f\"Successfully loaded: {file_name} - {df.shape[0]} rows\")\n",
    "            else:\n",
    "                print(f\"File is empty: {file_name}\")\n",
    "        except Exception as e:\n",
    "            print(f\"Error reading file {file_name}: {e}\")\n",
    "\n",
    "# Combine all the DataFrames into a single DataFrame\n",
    "if all_dataframes:\n",
    "    combined_df = pd.concat(all_dataframes, ignore_index=True)\n",
    "    print(f\"\\nCombined DataFrame created with {combined_df.shape[0]} rows and {combined_df.shape[1]} columns.\")\n",
    "    \n",
    "    # Save the combined DataFrame as an Excel file for reference\n",
    "    output_file = os.path.join(folder_path, \"Combined_Alarm_Reports.xlsx\")\n",
    "    combined_df.to_excel(output_file, index=False)\n",
    "    print(f\"\\nCombined DataFrame saved to {output_file}\")\n",
    "else:\n",
    "    print(\"\\nNo valid DataFrames were found to combine.\")\n"
   ]
  },
  {
   "cell_type": "code",
   "execution_count": 4,
   "metadata": {},
   "outputs": [
    {
     "name": "stdout",
     "output_type": "stream",
     "text": [
      "<class 'pandas.core.frame.DataFrame'>\n",
      "RangeIndex: 1165418 entries, 0 to 1165417\n",
      "Data columns (total 10 columns):\n",
      " #   Column         Non-Null Count    Dtype \n",
      "---  ------         --------------    ----- \n",
      " 0   Site Name      1165418 non-null  object\n",
      " 1   Post Code      1151870 non-null  object\n",
      " 2   Link Account   1127292 non-null  object\n",
      " 3   Event Date     1165418 non-null  object\n",
      " 4   Event Time     1165418 non-null  object\n",
      " 5   Event Detail   1165418 non-null  object\n",
      " 6   Resolution     1165418 non-null  object\n",
      " 7   Handling Time  155714 non-null   object\n",
      " 8   Installer      1165418 non-null  object\n",
      " 9   Operator       155714 non-null   object\n",
      "dtypes: object(10)\n",
      "memory usage: 88.9+ MB\n",
      "None\n",
      "                             Site Name Post Code Link Account  Event Date  \\\n",
      "count                          1165418   1151870      1127292     1165418   \n",
      "unique                             527       467          173          41   \n",
      "top     Victoria Project A TH166 TH168  SW1W 9AA      Barhale  18/01/2025   \n",
      "freq                             79404     79404        89087       50994   \n",
      "\n",
      "       Event Time                                       Event Detail  \\\n",
      "count     1165418                                            1165418   \n",
      "unique      86328                                             443786   \n",
      "top      06:57:12  Area Entered T:TH168 Cam 1(7) A:1 C:1 Cam 1 Me...   \n",
      "freq           84                                              42460   \n",
      "\n",
      "           Resolution Handling Time     Installer Operator  \n",
      "count         1165418        155714       1165418   155714  \n",
      "unique             22          4886             2       13  \n",
      "top     None Assigned      00:00:17  Prime Secure       AE  \n",
      "freq          1009700           922       1156379    25012  \n",
      "         Site Name Post Code       Link Account  Event Date Event Time  \\\n",
      "0  Tank Farm SA68D  KY11 2XB  Muir Construction  19/12/2024   18:34:29   \n",
      "1  Tank Farm SA68D  KY11 2XB  Muir Construction  19/12/2024   18:39:48   \n",
      "2  Tank Farm SA68D  KY11 2XB  Muir Construction  19/12/2024   20:00:35   \n",
      "3  Tank Farm SA68D  KY11 2XB  Muir Construction  19/12/2024   20:22:11   \n",
      "4  Tank Farm SA68D  KY11 2XB  Muir Construction  19/12/2024   20:24:21   \n",
      "\n",
      "                                        Event Detail  \\\n",
      "0  Analysis Service False Alarm T:SA68D(1) A:1 C:...   \n",
      "1  Area Entered T:SA68D(1) A:1 C:5 Lorry Park 202...   \n",
      "2  Analysis Service False Alarm T:SA68D(1) A:1 C:...   \n",
      "3  Analysis Service False Alarm T:SA68D(1) A:1 C:...   \n",
      "4  Analysis Service False Alarm T:SA68D(1) A:1 C:...   \n",
      "\n",
      "                          Resolution Handling Time     Installer Operator  \n",
      "0                      None Assigned           NaN  Prime Secure      NaN  \n",
      "1  Activation outside Protected Area      01:12:37  Prime Secure       CU  \n",
      "2                      None Assigned           NaN  Prime Secure      NaN  \n",
      "3                      None Assigned           NaN  Prime Secure      NaN  \n",
      "4                      None Assigned           NaN  Prime Secure      NaN  \n"
     ]
    }
   ],
   "source": [
    "# Quick summary of the combined data\n",
    "print(combined_df.info())  # Data types and missing values\n",
    "print(combined_df.describe())  # Basic statistics for numeric columns\n",
    "print(combined_df.head())  # First few rows\n"
   ]
  },
  {
   "cell_type": "code",
   "execution_count": null,
   "metadata": {},
   "outputs": [],
   "source": []
  },
  {
   "cell_type": "code",
   "execution_count": null,
   "metadata": {},
   "outputs": [],
   "source": [
    "\n"
   ]
  }
 ],
 "metadata": {
  "kernelspec": {
   "display_name": "base",
   "language": "python",
   "name": "python3"
  },
  "language_info": {
   "codemirror_mode": {
    "name": "ipython",
    "version": 3
   },
   "file_extension": ".py",
   "mimetype": "text/x-python",
   "name": "python",
   "nbconvert_exporter": "python",
   "pygments_lexer": "ipython3",
   "version": "3.12.7"
  }
 },
 "nbformat": 4,
 "nbformat_minor": 2
}
