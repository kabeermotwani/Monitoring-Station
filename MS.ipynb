{
 "cells": [
  {
   "cell_type": "markdown",
   "metadata": {},
   "source": [
    "i just wanna make sure i am doing this right. it has been so long"
   ]
  }
 ],
 "metadata": {
  "language_info": {
   "name": "python"
  }
 },
 "nbformat": 4,
 "nbformat_minor": 2
}
