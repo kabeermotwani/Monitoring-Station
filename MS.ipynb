{
 "cells": [
  {
   "cell_type": "markdown",
   "metadata": {},
   "source": [
    "i just wanna make sure i am doing this right. it has been so long. let us see if it is working  "
   ]
  },
  {
   "cell_type": "code",
   "execution_count": 30,
   "metadata": {},
   "outputs": [
    {
     "name": "stdout",
     "output_type": "stream",
     "text": [
      "Requirement already satisfied: pandas in c:\\users\\kabeermotwani\\anaconda3\\lib\\site-packages (2.2.2)\n",
      "Requirement already satisfied: openpyxl in c:\\users\\kabeermotwani\\anaconda3\\lib\\site-packages (3.1.5)\n",
      "Requirement already satisfied: xlrd in c:\\users\\kabeermotwani\\anaconda3\\lib\\site-packages (2.0.1)\n",
      "Requirement already satisfied: numpy>=1.26.0 in c:\\users\\kabeermotwani\\anaconda3\\lib\\site-packages (from pandas) (1.26.4)\n",
      "Requirement already satisfied: python-dateutil>=2.8.2 in c:\\users\\kabeermotwani\\anaconda3\\lib\\site-packages (from pandas) (2.9.0.post0)\n",
      "Requirement already satisfied: pytz>=2020.1 in c:\\users\\kabeermotwani\\anaconda3\\lib\\site-packages (from pandas) (2024.1)\n",
      "Requirement already satisfied: tzdata>=2022.7 in c:\\users\\kabeermotwani\\anaconda3\\lib\\site-packages (from pandas) (2023.3)\n",
      "Requirement already satisfied: et-xmlfile in c:\\users\\kabeermotwani\\anaconda3\\lib\\site-packages (from openpyxl) (1.1.0)\n",
      "Requirement already satisfied: six>=1.5 in c:\\users\\kabeermotwani\\anaconda3\\lib\\site-packages (from python-dateutil>=2.8.2->pandas) (1.16.0)\n",
      "Note: you may need to restart the kernel to use updated packages.\n"
     ]
    }
   ],
   "source": [
    "pip install pandas openpyxl xlrd\n"
   ]
  },
  {
   "cell_type": "code",
   "execution_count": 25,
   "metadata": {},
   "outputs": [
    {
     "name": "stdout",
     "output_type": "stream",
     "text": [
      "Files in folder: ['s49-638702793416452034.XLS', 's49-638703657414895237.XLS', 's49-638704521351985967.XLS', 's49-638705385387707588.XLS', 's49-638706249366847982.XLS', 's49-638707113363837691.XLS', 's49-638707977424346886.XLS', 's49-638708841374179583.XLS', 's49-638709705399134456.XLS', 's49-638710569341604323.XLS', 's49-638711433419167346.XLS', 's49-638712297369152880.XLS', 's49-638713161381049980.XLS', 's49-638714025395841915.XLS', 's49-638714889441966469.XLS', 's49-638715753371156410.XLS', 's49-638716617369642384.XLS', 's49-638717481422558464.XLS', 's49-638718345381578757.XLS', 's49-638719209336472327.XLS', 's49-638720073448531227.XLS', 's49-638720937411665609.XLS', 's49-638721801376913096.XLS', 's49-638722665366533813.XLS', 's49-638723529354034363.XLS', 's49-638724393420437195.XLS', 's49-638725257443177211.XLS', 's49-638726121384960441.XLS', 's49-638726985380065286.XLS', 's49-638727849387772202.XLS', 's49-638728713339034229.XLS', 's49-638729577453920875.XLS', 's49-638730441409352594.XLS', 's49-638732169105695325.XLS', 's49-638733033121421869.XLS', 's49-638733897136681404.XLS', 's49-638734761115281676.XLS', 's49-638735625099501808.XLS', 's49-638736489113711129.XLS']\n"
     ]
    }
   ],
   "source": [
    "import os\n",
    "import pandas as pd\n",
    "\n",
    "# Define the folder path where all the Excel files are stored\n",
    "folder_path = r\"C:\\Users\\KabeerMotwani\\OneDrive - Prime Trading Group\\work\\ALARM REPORTS FOR KABEER\"\n",
    "\n",
    "# Initialize an empty list to store DataFrames\n",
    "all_dataframes = []\n",
    "\n",
    "# Debugging: List all files in the folder\n",
    "files_in_folder = os.listdir(folder_path)\n",
    "print(f\"Files in folder: {files_in_folder}\")\n",
    "\n",
    "# Loop through each file in the folder\n",
    "for file_name in files_in_folder:\n",
    "    if file_name.endswith(\".xls\") or file_name.endswith(\".xlsx\"):  # Check if file is an Excel file\n",
    "        file_path = os.path.join(folder_path, file_name)  # Create full file path\n",
    "        try:\n",
    "            # Try reading the Excel file\n",
    "            df = pd.read_excel(file_path, engine=\"xlrd\")  # Use 'xlrd' for .xls files\n",
    "            if not df.empty:  # Ensure the DataFrame is not empty\n",
    "                all_dataframes.append(df)\n",
    "                print(f\"Successfully loaded: {file_name} - {df.shape[0]} rows\")\n",
    "            else:\n",
    "                print(f\"File is empty: {file_name}\")\n",
    "        except Exception as e:\n",
    "            print(f\"Error reading file {file_name}: {e}\")\n",
    "\n",
    "# Combine all the DataFrames into a single DataFrame\n",
    "if all_dataframes:\n",
    "    combined_df = pd.concat(all_dataframes, ignore_index=True)\n",
    "    print(f\"\\nCombined DataFrame created with {combined_df.shape[0]} rows and {combined_df.shape[1]} columns.\")\n",
    "    \n",
    "    # Save the combined DataFrame as an Excel file for reference\n",
    "    output_file = os.path.join(folder_path, \"Combined_Alarm_Reports.xlsx\")\n",
    "    combined_df.to_excel(output_file, index=False)\n",
    "    print(f\"\\nCombined DataFrame saved to {output_file}\")\n",
    "else:\n",
    "    print(\"\\nNo valid Excel files were found to combine.\")\n"
   ]
  },
  {
   "cell_type": "code",
   "execution_count": 28,
   "metadata": {},
   "outputs": [],
   "source": [
    "for file_name in files_in_folder:\n",
    "    if file_name.endswith(\".xls\") or file_name.endswith(\".xlsx\"):\n",
    "        file_path = os.path.join(folder_path, file_name)\n",
    "        print(f\"Processing file: {file_name}\")\n",
    "        try:\n",
    "            df = pd.read_excel(file_path, engine=\"xlrd\")\n",
    "            if not df.empty:\n",
    "                print(f\"File loaded: {file_name} with {df.shape[0]} rows\")\n",
    "                all_dataframes.append(df)\n",
    "            else:\n",
    "                print(f\"File is empty: {file_name}\")\n",
    "        except Exception as e:\n",
    "            print(f\"Error reading file {file_name}: {e}\")\n"
   ]
  },
  {
   "cell_type": "code",
   "execution_count": 27,
   "metadata": {},
   "outputs": [
    {
     "ename": "NameError",
     "evalue": "name 'combined_df' is not defined",
     "output_type": "error",
     "traceback": [
      "\u001b[1;31m---------------------------------------------------------------------------\u001b[0m",
      "\u001b[1;31mNameError\u001b[0m                                 Traceback (most recent call last)",
      "Cell \u001b[1;32mIn[27], line 2\u001b[0m\n\u001b[0;32m      1\u001b[0m \u001b[38;5;66;03m# Check the total number of rows in the combined DataFrame\u001b[39;00m\n\u001b[1;32m----> 2\u001b[0m total_rows \u001b[38;5;241m=\u001b[39m \u001b[38;5;28mlen\u001b[39m(combined_df)\n\u001b[0;32m      3\u001b[0m \u001b[38;5;28mprint\u001b[39m(\u001b[38;5;124mf\u001b[39m\u001b[38;5;124m\"\u001b[39m\u001b[38;5;124mTotal rows in combined DataFrame: \u001b[39m\u001b[38;5;132;01m{\u001b[39;00mtotal_rows\u001b[38;5;132;01m}\u001b[39;00m\u001b[38;5;124m\"\u001b[39m)\n",
      "\u001b[1;31mNameError\u001b[0m: name 'combined_df' is not defined"
     ]
    }
   ],
   "source": [
    "# Check the total number of rows in the combined DataFrame\n",
    "total_rows = len(combined_df)\n",
    "print(f\"Total rows in combined DataFrame: {total_rows}\")\n"
   ]
  },
  {
   "cell_type": "code",
   "execution_count": 21,
   "metadata": {},
   "outputs": [
    {
     "name": "stdout",
     "output_type": "stream",
     "text": [
      "Folder found: C:\\Users\\KabeerMotwani\\OneDrive - Prime Trading Group\\work\\ALARM REPORTS FOR KABEER\n",
      "Files in folder: ['s49-638702793416452034.XLS', 's49-638703657414895237.XLS', 's49-638704521351985967.XLS', 's49-638705385387707588.XLS', 's49-638706249366847982.XLS', 's49-638707113363837691.XLS', 's49-638707977424346886.XLS', 's49-638708841374179583.XLS', 's49-638709705399134456.XLS', 's49-638710569341604323.XLS', 's49-638711433419167346.XLS', 's49-638712297369152880.XLS', 's49-638713161381049980.XLS', 's49-638714025395841915.XLS', 's49-638714889441966469.XLS', 's49-638715753371156410.XLS', 's49-638716617369642384.XLS', 's49-638717481422558464.XLS', 's49-638718345381578757.XLS', 's49-638719209336472327.XLS', 's49-638720073448531227.XLS', 's49-638720937411665609.XLS', 's49-638721801376913096.XLS', 's49-638722665366533813.XLS', 's49-638723529354034363.XLS', 's49-638724393420437195.XLS', 's49-638725257443177211.XLS', 's49-638726121384960441.XLS', 's49-638726985380065286.XLS', 's49-638727849387772202.XLS', 's49-638728713339034229.XLS', 's49-638729577453920875.XLS', 's49-638730441409352594.XLS', 's49-638732169105695325.XLS', 's49-638733033121421869.XLS', 's49-638733897136681404.XLS', 's49-638734761115281676.XLS', 's49-638735625099501808.XLS', 's49-638736489113711129.XLS']\n"
     ]
    }
   ],
   "source": [
    "import os\n",
    "\n",
    "folder_path = r\"C:\\Users\\KabeerMotwani\\OneDrive - Prime Trading Group\\work\\ALARM REPORTS FOR KABEER\"\n",
    "\n",
    "# Check if the folder exists\n",
    "if os.path.exists(folder_path):\n",
    "    print(f\"Folder found: {folder_path}\")\n",
    "else:\n",
    "    print(f\"Folder not found: {folder_path}\")\n",
    "\n",
    "# List all files in the folder\n",
    "files = os.listdir(folder_path)\n",
    "print(f\"Files in folder: {files}\")\n"
   ]
  },
  {
   "cell_type": "code",
   "execution_count": 31,
   "metadata": {},
   "outputs": [
    {
     "name": "stdout",
     "output_type": "stream",
     "text": [
      "Files in folder: ['s49-638702793416452034.XLS', 's49-638703657414895237.XLS', 's49-638704521351985967.XLS', 's49-638705385387707588.XLS', 's49-638706249366847982.XLS', 's49-638707113363837691.XLS', 's49-638707977424346886.XLS', 's49-638708841374179583.XLS', 's49-638709705399134456.XLS', 's49-638710569341604323.XLS', 's49-638711433419167346.XLS', 's49-638712297369152880.XLS', 's49-638713161381049980.XLS', 's49-638714025395841915.XLS', 's49-638714889441966469.XLS', 's49-638715753371156410.XLS', 's49-638716617369642384.XLS', 's49-638717481422558464.XLS', 's49-638718345381578757.XLS', 's49-638719209336472327.XLS', 's49-638720073448531227.XLS', 's49-638720937411665609.XLS', 's49-638721801376913096.XLS', 's49-638722665366533813.XLS', 's49-638723529354034363.XLS', 's49-638724393420437195.XLS', 's49-638725257443177211.XLS', 's49-638726121384960441.XLS', 's49-638726985380065286.XLS', 's49-638727849387772202.XLS', 's49-638728713339034229.XLS', 's49-638729577453920875.XLS', 's49-638730441409352594.XLS', 's49-638732169105695325.XLS', 's49-638733033121421869.XLS', 's49-638733897136681404.XLS', 's49-638734761115281676.XLS', 's49-638735625099501808.XLS', 's49-638736489113711129.XLS']\n",
      "\n",
      "No valid DataFrames were found to combine.\n"
     ]
    }
   ],
   "source": [
    "import os\n",
    "import pandas as pd\n",
    "\n",
    "# Define the folder path where all the Excel files are stored\n",
    "folder_path = r\"C:\\Users\\KabeerMotwani\\OneDrive - Prime Trading Group\\work\\ALARM REPORTS FOR KABEER\"\n",
    "\n",
    "# Initialize an empty list to store DataFrames\n",
    "all_dataframes = []\n",
    "\n",
    "# Get all files in the folder\n",
    "files_in_folder = os.listdir(folder_path)\n",
    "print(f\"Files in folder: {files_in_folder}\")\n",
    "\n",
    "# Loop through each file in the folder\n",
    "for file_name in files_in_folder:\n",
    "    if file_name.endswith(\".xls\") or file_name.endswith(\".xlsx\"):  # Check for Excel files\n",
    "        file_path = os.path.join(folder_path, file_name)  # Full file path\n",
    "        print(f\"Processing file: {file_name}\")\n",
    "        try:\n",
    "            # Try to read the Excel file\n",
    "            df = pd.read_excel(file_path, engine=\"xlrd\")\n",
    "            if not df.empty:  # Check if the file is not empty\n",
    "                all_dataframes.append(df)\n",
    "                print(f\"File loaded: {file_name} with {df.shape[0]} rows and {df.shape[1]} columns\")\n",
    "            else:\n",
    "                print(f\"File is empty: {file_name}\")\n",
    "        except Exception as e:\n",
    "            print(f\"Error reading file {file_name}: {e}\")\n",
    "\n",
    "# Combine all the DataFrames into a single DataFrame\n",
    "if all_dataframes:\n",
    "    combined_df = pd.concat(all_dataframes, ignore_index=True)\n",
    "    print(f\"\\nCombined DataFrame created with {combined_df.shape[0]} rows and {combined_df.shape[1]} columns.\")\n",
    "    \n",
    "    # Save the combined DataFrame to Excel\n",
    "    output_file = os.path.join(folder_path, \"Combined_Alarm_Reports.xlsx\")\n",
    "    try:\n",
    "        combined_df.to_excel(output_file, index=False)\n",
    "        print(f\"Combined DataFrame saved successfully to {output_file}\")\n",
    "    except Exception as e:\n",
    "        print(f\"Error saving combined DataFrame: {e}\")\n",
    "else:\n",
    "    print(\"\\nNo valid DataFrames were found to combine.\")\n"
   ]
  },
  {
   "cell_type": "code",
   "execution_count": 33,
   "metadata": {},
   "outputs": [
    {
     "name": "stdout",
     "output_type": "stream",
     "text": [
      "\n",
      "No valid DataFrames were found to combine.\n"
     ]
    }
   ],
   "source": [
    "import os\n",
    "import pandas as pd\n",
    "\n",
    "# Define the folder path where all the Excel files are stored\n",
    "folder_path = r\"C:\\Users\\KabeerMotwani\\OneDrive - Prime Trading Group\\work\\ALARM REPORTS FOR KABEER\"\n",
    "\n",
    "# Initialize an empty list to store DataFrames\n",
    "all_dataframes = []\n",
    "\n",
    "# Loop through each file in the folder\n",
    "for file_name in os.listdir(folder_path):\n",
    "    if file_name.endswith(\".xls\") or file_name.endswith(\".xlsx\"):  # Check if file is an Excel file\n",
    "        file_path = os.path.join(folder_path, file_name)  # Create full file path\n",
    "        try:\n",
    "            # Attempt to read the file with multiple engines\n",
    "            df = pd.read_excel(file_path, engine='xlrd')  # Old .xls files\n",
    "            if df.empty:\n",
    "                print(f\"File is empty: {file_name}\")\n",
    "            else:\n",
    "                all_dataframes.append(df)\n",
    "                print(f\"Successfully loaded: {file_name} - {df.shape[0]} rows\")\n",
    "        except ValueError as ve:\n",
    "            print(f\"ValueError reading {file_name}: {ve}\")\n",
    "        except Exception as e:\n",
    "            print(f\"Error reading file {file_name}: {e}\")\n",
    "\n",
    "# Combine all the DataFrames into a single DataFrame\n",
    "if all_dataframes:\n",
    "    combined_df = pd.concat(all_dataframes, ignore_index=True)\n",
    "    print(f\"\\nCombined DataFrame created with {combined_df.shape[0]} rows and {combined_df.shape[1]} columns.\")\n",
    "    \n",
    "    # Save the combined DataFrame as an Excel file for reference\n",
    "    output_file = os.path.join(folder_path, \"Combined_Alarm_Reports.xlsx\")\n",
    "    combined_df.to_excel(output_file, index=False)\n",
    "    print(f\"\\nCombined DataFrame saved to {output_file}\")\n",
    "else:\n",
    "    print(\"\\nNo valid DataFrames were found to combine.\")\n"
   ]
  }
 ],
 "metadata": {
  "language_info": {
   "name": "python"
  }
 },
 "nbformat": 4,
 "nbformat_minor": 2
}
